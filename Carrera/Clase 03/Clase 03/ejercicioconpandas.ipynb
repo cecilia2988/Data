{
 "cells": [
  {
   "cell_type": "code",
   "execution_count": 1,
   "metadata": {},
   "outputs": [],
   "source": [
    "import numpy as np\n",
    "import pandas as pd"
   ]
  },
  {
   "cell_type": "code",
   "execution_count": 2,
   "metadata": {},
   "outputs": [],
   "source": [
    "# def CargarDiccionario():\n",
    "#     with open(\"Emision.csv\",\"r\", encoding=\"ISO-8859-1\") as f:\n",
    "#         next(f)\n",
    "#         dicc_emisiones = {  'cod_pais' : [],\n",
    "#                     'nom_pais' : [],\n",
    "#                     'region' : [],\n",
    "#                     'anio' : [],\n",
    "#                     'co2' : [],\n",
    "#                     'co2_percapita' : []\n",
    "                    \n",
    "#         }\n",
    "#         for fila in f:\n",
    "#             lista= fila.split(\"|\")\n",
    "#             dicc_emisiones['cod_pais'].append(lista[0])\n",
    "#             dicc_emisiones['nom_pais'].append(lista[1])\n",
    "#             dicc_emisiones['region'].append(lista[2])\n",
    "#             dicc_emisiones['anio'].append(lista[3])\n",
    "#             if lista[4]!=\"\":\n",
    "#                 dicc_emisiones['co2'].append(float(lista[4].replace('.', '').replace(',', '.')))\n",
    "#             else:\n",
    "#                 dicc_emisiones['co2'].append(None)\n",
    "#             if lista[5]!=\"\\n\":\n",
    "#                 dicc_emisiones['co2_percapita'].append(float(lista[5].replace(\"\\n\", \"\").replace('.', '').replace(',', '.')))\n",
    "#             else:\n",
    "#                 dicc_emisiones['co2_percapita'].append(None)\n",
    "    \n",
    "#     return dicc_emisiones"
   ]
  },
  {
   "cell_type": "code",
   "execution_count": 2,
   "metadata": {},
   "outputs": [],
   "source": [
    "diccionario=pd.read_csv(\".\\Emision.csv\", sep=\"|\", decimal=\",\", thousands=\".\", encoding=\"latin-1\")"
   ]
  },
  {
   "cell_type": "code",
   "execution_count": 3,
   "metadata": {},
   "outputs": [
    {
     "data": {
      "text/html": [
       "<div>\n",
       "<style scoped>\n",
       "    .dataframe tbody tr th:only-of-type {\n",
       "        vertical-align: middle;\n",
       "    }\n",
       "\n",
       "    .dataframe tbody tr th {\n",
       "        vertical-align: top;\n",
       "    }\n",
       "\n",
       "    .dataframe thead th {\n",
       "        text-align: right;\n",
       "    }\n",
       "</style>\n",
       "<table border=\"1\" class=\"dataframe\">\n",
       "  <thead>\n",
       "    <tr style=\"text-align: right;\">\n",
       "      <th></th>\n",
       "      <th>Código de país</th>\n",
       "      <th>Nombre del país</th>\n",
       "      <th>Región</th>\n",
       "      <th>Año</th>\n",
       "      <th>CO2 (kt)</th>\n",
       "      <th>CO2 per cápita (toneladas métricas)</th>\n",
       "    </tr>\n",
       "  </thead>\n",
       "  <tbody>\n",
       "    <tr>\n",
       "      <th>0</th>\n",
       "      <td>ABW</td>\n",
       "      <td>Aruba</td>\n",
       "      <td>América Latina y Caribe</td>\n",
       "      <td>1960</td>\n",
       "      <td>NaN</td>\n",
       "      <td>NaN</td>\n",
       "    </tr>\n",
       "    <tr>\n",
       "      <th>1</th>\n",
       "      <td>ABW</td>\n",
       "      <td>Aruba</td>\n",
       "      <td>América Latina y Caribe</td>\n",
       "      <td>1961</td>\n",
       "      <td>NaN</td>\n",
       "      <td>NaN</td>\n",
       "    </tr>\n",
       "    <tr>\n",
       "      <th>2</th>\n",
       "      <td>ABW</td>\n",
       "      <td>Aruba</td>\n",
       "      <td>América Latina y Caribe</td>\n",
       "      <td>1962</td>\n",
       "      <td>NaN</td>\n",
       "      <td>NaN</td>\n",
       "    </tr>\n",
       "    <tr>\n",
       "      <th>3</th>\n",
       "      <td>ABW</td>\n",
       "      <td>Aruba</td>\n",
       "      <td>América Latina y Caribe</td>\n",
       "      <td>1963</td>\n",
       "      <td>NaN</td>\n",
       "      <td>NaN</td>\n",
       "    </tr>\n",
       "    <tr>\n",
       "      <th>4</th>\n",
       "      <td>ABW</td>\n",
       "      <td>Aruba</td>\n",
       "      <td>América Latina y Caribe</td>\n",
       "      <td>1964</td>\n",
       "      <td>NaN</td>\n",
       "      <td>NaN</td>\n",
       "    </tr>\n",
       "  </tbody>\n",
       "</table>\n",
       "</div>"
      ],
      "text/plain": [
       "  Código de país Nombre del país                   Región   Año  CO2 (kt)  \\\n",
       "0            ABW           Aruba  América Latina y Caribe  1960       NaN   \n",
       "1            ABW           Aruba  América Latina y Caribe  1961       NaN   \n",
       "2            ABW           Aruba  América Latina y Caribe  1962       NaN   \n",
       "3            ABW           Aruba  América Latina y Caribe  1963       NaN   \n",
       "4            ABW           Aruba  América Latina y Caribe  1964       NaN   \n",
       "\n",
       "   CO2 per cápita (toneladas métricas)  \n",
       "0                                  NaN  \n",
       "1                                  NaN  \n",
       "2                                  NaN  \n",
       "3                                  NaN  \n",
       "4                                  NaN  "
      ]
     },
     "execution_count": 3,
     "metadata": {},
     "output_type": "execute_result"
    }
   ],
   "source": [
    "df =pd.DataFrame(diccionario)\n",
    "df.head(5)"
   ]
  },
  {
   "cell_type": "code",
   "execution_count": 4,
   "metadata": {},
   "outputs": [
    {
     "name": "stdout",
     "output_type": "stream",
     "text": [
      "<class 'pandas.core.frame.DataFrame'>\n",
      "RangeIndex: 11127 entries, 0 to 11126\n",
      "Data columns (total 6 columns):\n",
      " #   Column                               Non-Null Count  Dtype  \n",
      "---  ------                               --------------  -----  \n",
      " 0   Código de país                       11127 non-null  object \n",
      " 1   Nombre del país                      11127 non-null  object \n",
      " 2   Región                               11127 non-null  object \n",
      " 3   Año                                  11127 non-null  int64  \n",
      " 4   CO2 (kt)                             9032 non-null   float64\n",
      " 5   CO2 per cápita (toneladas métricas)  9029 non-null   float64\n",
      "dtypes: float64(2), int64(1), object(3)\n",
      "memory usage: 521.7+ KB\n"
     ]
    }
   ],
   "source": [
    "df.info()"
   ]
  },
  {
   "cell_type": "code",
   "execution_count": 8,
   "metadata": {},
   "outputs": [
    {
     "data": {
      "text/plain": [
       "CO2 (kt)    1691634.801\n",
       "dtype: object"
      ]
     },
     "execution_count": 8,
     "metadata": {},
     "output_type": "execute_result"
    }
   ],
   "source": [
    "df[(df[\"Región\"]==\"América Latina y Caribe\") & (df[\"Año\"]==2010)].sum()[[\"CO2 (kt)\"]]"
   ]
  },
  {
   "cell_type": "code",
   "execution_count": 9,
   "metadata": {},
   "outputs": [
    {
     "name": "stdout",
     "output_type": "stream",
     "text": [
      "Nombre del país    China\n",
      "Name: 1923, dtype: object\n",
      "9019518.22\n"
     ]
    }
   ],
   "source": [
    "print(df.loc[df[\"CO2 (kt)\"].idxmax(),[\"Nombre del país\"]])\n",
    "print(df[\"CO2 (kt)\"].max())\n"
   ]
  },
  {
   "cell_type": "code",
   "execution_count": 10,
   "metadata": {},
   "outputs": [
    {
     "data": {
      "text/html": [
       "<div>\n",
       "<style scoped>\n",
       "    .dataframe tbody tr th:only-of-type {\n",
       "        vertical-align: middle;\n",
       "    }\n",
       "\n",
       "    .dataframe tbody tr th {\n",
       "        vertical-align: top;\n",
       "    }\n",
       "\n",
       "    .dataframe thead th {\n",
       "        text-align: right;\n",
       "    }\n",
       "</style>\n",
       "<table border=\"1\" class=\"dataframe\">\n",
       "  <thead>\n",
       "    <tr style=\"text-align: right;\">\n",
       "      <th></th>\n",
       "      <th>CO2 (kt)</th>\n",
       "    </tr>\n",
       "    <tr>\n",
       "      <th>Región</th>\n",
       "      <th></th>\n",
       "    </tr>\n",
       "  </thead>\n",
       "  <tbody>\n",
       "    <tr>\n",
       "      <th>Norteamérica</th>\n",
       "      <td>2.661438e+08</td>\n",
       "    </tr>\n",
       "    <tr>\n",
       "      <th>Asia Oriental y Asia-Pacífico</th>\n",
       "      <td>2.385467e+08</td>\n",
       "    </tr>\n",
       "    <tr>\n",
       "      <th>Europa y Asia Central</th>\n",
       "      <td>2.262463e+08</td>\n",
       "    </tr>\n",
       "    <tr>\n",
       "      <th>América Latina y Caribe</th>\n",
       "      <td>4.849364e+07</td>\n",
       "    </tr>\n",
       "    <tr>\n",
       "      <th>Oriente Medio y Norte de África</th>\n",
       "      <td>4.823732e+07</td>\n",
       "    </tr>\n",
       "    <tr>\n",
       "      <th>Sur de Asia</th>\n",
       "      <td>4.139283e+07</td>\n",
       "    </tr>\n",
       "    <tr>\n",
       "      <th>África subsahariana</th>\n",
       "      <td>2.156179e+07</td>\n",
       "    </tr>\n",
       "  </tbody>\n",
       "</table>\n",
       "</div>"
      ],
      "text/plain": [
       "                                     CO2 (kt)\n",
       "Región                                       \n",
       "Norteamérica                     2.661438e+08\n",
       "Asia Oriental y Asia-Pacífico    2.385467e+08\n",
       "Europa y Asia Central            2.262463e+08\n",
       "América Latina y Caribe          4.849364e+07\n",
       "Oriente Medio y Norte de África  4.823732e+07\n",
       "Sur de Asia                      4.139283e+07\n",
       "África subsahariana              2.156179e+07"
      ]
     },
     "execution_count": 10,
     "metadata": {},
     "output_type": "execute_result"
    }
   ],
   "source": [
    "df.groupby([\"Región\"])[[\"CO2 (kt)\"]].sum().sort_values([\"CO2 (kt)\"],ascending=False)"
   ]
  }
 ],
 "metadata": {
  "interpreter": {
   "hash": "2b01dde4e9dbc80976441bdb819535c7ae42ae466321b4db651ca3882006d071"
  },
  "kernelspec": {
   "display_name": "Python 3.10.2 ('entorno': venv)",
   "language": "python",
   "name": "python3"
  },
  "language_info": {
   "codemirror_mode": {
    "name": "ipython",
    "version": 3
   },
   "file_extension": ".py",
   "mimetype": "text/x-python",
   "name": "python",
   "nbconvert_exporter": "python",
   "pygments_lexer": "ipython3",
   "version": "3.10.2"
  },
  "orig_nbformat": 4
 },
 "nbformat": 4,
 "nbformat_minor": 2
}
