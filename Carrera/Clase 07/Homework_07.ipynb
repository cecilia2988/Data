{
 "cells": [
  {
   "cell_type": "markdown",
   "metadata": {},
   "source": [
    "# Práctica Clase 7"
   ]
  },
  {
   "cell_type": "markdown",
   "metadata": {},
   "source": [
    "1) Diseñar una clase que permita trabajar con un árbol binario y que contenga los métodos:<br>\n",
    "    * insertaVal: para insertar un dato<br>\n",
    "    * buscaVal: que devuelva True o False si existe o no un dato<br>\n",
    "    * verVal: que imprima por pantalla los valores del árbol<br>\n",
    "\n",
    "Nota: Se puede utilizar la recursividad\n"
   ]
  },
  {
   "cell_type": "code",
   "execution_count": 15,
   "metadata": {},
   "outputs": [],
   "source": [
    "class Nodo():\n",
    "    def __init__(self, dato):\n",
    "        self.dato = dato\n",
    "        self.izq = None\n",
    "        self.der = None"
   ]
  },
  {
   "cell_type": "code",
   "execution_count": 21,
   "metadata": {},
   "outputs": [],
   "source": [
    "class Nodo():\n",
    "    def __init__(self, dato):\n",
    "        self.dato = dato\n",
    "        self.izq = None\n",
    "        self.der = None\n",
    "\n",
    "class Arbol():\n",
    "    def __init__(self):\n",
    "        self.raiz = None\n",
    "\n",
    "    def insertaVal(self, dato):\n",
    "        n = Nodo(dato)\n",
    "        bandera=True\n",
    "        if (self.raiz == None):\n",
    "            self.raiz = n\n",
    "        else:\n",
    "            puntero = self.raiz\n",
    "            while(bandera==True):\n",
    "                if (n.dato > puntero.dato):\n",
    "                    if (puntero.der == None):\n",
    "                        puntero.der = n\n",
    "                        bandera=False\n",
    "                    else:\n",
    "                        puntero=puntero.der\n",
    "                elif(n.dato < puntero.dato):\n",
    "                    if (puntero.izq == None):\n",
    "                        puntero.izq = n\n",
    "                        bandera=False\n",
    "                    else:\n",
    "                        puntero=puntero.izq\n",
    "                elif(puntero.dato==n.dato):\n",
    "                    bandera=False\n",
    "\n",
    "    def verVal(self):\n",
    "        p=self.raiz\n",
    "        lista=[]\n",
    "        self.__mostrarArbol(p,lista)\n",
    "        for i in lista:\n",
    "            print(i)\n",
    "\n",
    "\n",
    "    def __mostrarArbol(self,puntero,lista):\n",
    "        if(puntero.izq != None):\n",
    "            self.__mostrarArbol(puntero.izq,lista)\n",
    "        lista.append(puntero.dato)\n",
    "        if(puntero.der !=None):\n",
    "            self.__mostrarArbol(puntero.der,lista)\n",
    "\n",
    "\n",
    "    def buscarval(self,valor):\n",
    "        puntero=self.raiz\n",
    "        while(puntero != None):\n",
    "            if(valor==puntero.dato):\n",
    "                return True\n",
    "            elif (valor>puntero.dato):\n",
    "                puntero=puntero.der\n",
    "            else:\n",
    "                puntero=puntero.izq\n",
    "        return False"
   ]
  },
  {
   "cell_type": "code",
   "execution_count": 22,
   "metadata": {},
   "outputs": [],
   "source": [
    "a = Arbol()"
   ]
  },
  {
   "cell_type": "code",
   "execution_count": 23,
   "metadata": {},
   "outputs": [],
   "source": [
    "a.insertaVal(2)"
   ]
  },
  {
   "cell_type": "code",
   "execution_count": 24,
   "metadata": {},
   "outputs": [
    {
     "name": "stdout",
     "output_type": "stream",
     "text": [
      "2\n"
     ]
    }
   ],
   "source": [
    "a.verVal()"
   ]
  }
 ],
 "metadata": {
  "kernelspec": {
   "display_name": "Python 3",
   "language": "python",
   "name": "python3"
  },
  "language_info": {
   "codemirror_mode": {
    "name": "ipython",
    "version": 3
   },
   "file_extension": ".py",
   "mimetype": "text/x-python",
   "name": "python",
   "nbconvert_exporter": "python",
   "pygments_lexer": "ipython3",
   "version": "3.10.2"
  }
 },
 "nbformat": 4,
 "nbformat_minor": 4
}
