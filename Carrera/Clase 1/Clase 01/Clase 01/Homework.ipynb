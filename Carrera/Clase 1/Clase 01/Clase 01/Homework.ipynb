{
 "cells": [
  {
   "cell_type": "markdown",
   "metadata": {},
   "source": [
    "# Práctica Clase 1 "
   ]
  },
  {
   "cell_type": "markdown",
   "metadata": {},
   "source": [
    "1) Crear una función capaz de convertir números enteros de base 10 a base 2. Debe recibir como parámetro el número a convertir<br>\n",
    "Consideraciones:<br> \n",
    "a. Tratar de resolverlo sin usar la función format(nro,\"b\")<br>\n",
    "b. El pdf \"conversion-de-decimal-a-binario.pdf\" puede servir de ayuda.\n"
   ]
  },
  {
   "cell_type": "code",
   "execution_count": 11,
   "metadata": {},
   "outputs": [],
   "source": [
    "def NumeroBinario(numero):\n",
    "    '''\n",
    "    Esta función recibe como parámetro un número entero mayor ó igual a cero y lo devuelve en su \n",
    "    representación binaria. Debe recibir y devolver un valor de tipo entero.\n",
    "    En caso de que el parámetro no sea de tipo entero y mayor a -1 retorna nulo.\n",
    "    '''\n",
    "    lista=[]\n",
    "    resto=0\n",
    "    num=0\n",
    "    if (type(numero)==int or numero>=0):\n",
    "        while(numero>0):\n",
    "            num=num*10\n",
    "            resto=numero%2\n",
    "            num=num+resto\n",
    "            numero=int(numero/2)\n",
    "        return num\n",
    "    else:\n",
    "        return None"
   ]
  },
  {
   "cell_type": "code",
   "execution_count": 12,
   "metadata": {},
   "outputs": [
    {
     "data": {
      "text/plain": [
       "10111"
      ]
     },
     "execution_count": 12,
     "metadata": {},
     "output_type": "execute_result"
    }
   ],
   "source": [
    "#Ejemplo:\n",
    "NumeroBinario(29)"
   ]
  },
  {
   "cell_type": "markdown",
   "metadata": {},
   "source": [
    "2) Convertir de decimal a binario las fracciones 1/2, 1/3, 1/4, 1/5, 1/6, 1/7, 1/8, 1/9. Luego analizar los resultados y observar qué particularidad se encuentra en los mismos. Se puede usar Python o una calculadora, lo importante es ver si hay algo que podemos notar..."
   ]
  },
  {
   "cell_type": "markdown",
   "metadata": {},
   "source": [
    "Salida esperada:\n",
    "* Fraccion 1 / 2 en decimal: 0.5 y en binario: 0.1\n",
    "* Fraccion 1 / 3 en decimal: 0.3333333333333333 y en binario: 0.01251021428517034168213652730546110922218454369087381174762349525\n",
    "* Fraccion 1 / 4 en decimal: 0.25 y en binario: 0.01\n",
    "* Fraccion 1 / 5 en decimal: 0.2 y en binario: 0.00136122551102204409819163832766553131072621452428104857209715\n",
    "* Fraccion 1 / 6 en decimal: 0.16666666666666666 y en binario: 0.001251021428517034168213652730546110922218454369087381174762\n",
    "* Fraccion 1 / 7 en decimal: 0.14285714285714285 y en binario: 0.0012491836731462925851170234046819362187243744974898149796\n",
    "* Fraccion 1 / 8 en decimal: 0.125 y en binario: 0.001\n",
    "* Fraccion 1 / 9 en decimal: 0.1111111111111111 y en binario: 0.000137142856113227455910182036407281145632912758254116508"
   ]
  }
 ],
 "metadata": {
  "interpreter": {
   "hash": "c85384e4cb51c8b72350f3a8712cc8351fdc3955e32a27f9b60c6242ab125f01"
  },
  "kernelspec": {
   "display_name": "Python 3.9.7 ('henry')",
   "language": "python",
   "name": "python3"
  },
  "language_info": {
   "codemirror_mode": {
    "name": "ipython",
    "version": 3
   },
   "file_extension": ".py",
   "mimetype": "text/x-python",
   "name": "python",
   "nbconvert_exporter": "python",
   "pygments_lexer": "ipython3",
   "version": "3.10.2"
  },
  "orig_nbformat": 4
 },
 "nbformat": 4,
 "nbformat_minor": 2
}
